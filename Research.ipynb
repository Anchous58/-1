{
 "cells": [
  {
   "cell_type": "code",
   "execution_count": 1,
   "metadata": {},
   "outputs": [],
   "source": [
    "import pandas as pd\n",
    "import seaborn as sns\n",
    "import numpy as np\n",
    "from matplotlib import pyplot as plt"
   ]
  },
  {
   "cell_type": "markdown",
   "metadata": {},
   "source": [
    "# Загружаем данные"
   ]
  },
  {
   "cell_type": "code",
   "execution_count": 2,
   "metadata": {},
   "outputs": [],
   "source": [
    "data = pd.read_excel('data.xlsx', sheet_name=1)"
   ]
  },
  {
   "cell_type": "code",
   "execution_count": 3,
   "metadata": {},
   "outputs": [
    {
     "data": {
      "text/html": [
       "<div>\n",
       "<style scoped>\n",
       "    .dataframe tbody tr th:only-of-type {\n",
       "        vertical-align: middle;\n",
       "    }\n",
       "\n",
       "    .dataframe tbody tr th {\n",
       "        vertical-align: top;\n",
       "    }\n",
       "\n",
       "    .dataframe thead th {\n",
       "        text-align: right;\n",
       "    }\n",
       "</style>\n",
       "<table border=\"1\" class=\"dataframe\">\n",
       "  <thead>\n",
       "    <tr style=\"text-align: right;\">\n",
       "      <th></th>\n",
       "      <th>Пол</th>\n",
       "      <th>Возраст</th>\n",
       "      <th>Вопрос1</th>\n",
       "      <th>Вопрос2</th>\n",
       "      <th>Вопрос3</th>\n",
       "      <th>Вопрос4</th>\n",
       "      <th>Вопрос5</th>\n",
       "      <th>Вопрос6</th>\n",
       "      <th>Вопрос7</th>\n",
       "      <th>Вопрос8</th>\n",
       "      <th>Вопрос9</th>\n",
       "      <th>Вопрос10</th>\n",
       "      <th>Вопрос11</th>\n",
       "      <th>Вопрос12</th>\n",
       "      <th>Вопрос13</th>\n",
       "      <th>Вопрос14</th>\n",
       "      <th>Вопрос15</th>\n",
       "    </tr>\n",
       "  </thead>\n",
       "  <tbody>\n",
       "    <tr>\n",
       "      <th>0</th>\n",
       "      <td>0</td>\n",
       "      <td>взрослый</td>\n",
       "      <td>3</td>\n",
       "      <td>3</td>\n",
       "      <td>5</td>\n",
       "      <td>2</td>\n",
       "      <td>4</td>\n",
       "      <td>3</td>\n",
       "      <td>3</td>\n",
       "      <td>2</td>\n",
       "      <td>2</td>\n",
       "      <td>2</td>\n",
       "      <td>3</td>\n",
       "      <td>4</td>\n",
       "      <td>2</td>\n",
       "      <td>2</td>\n",
       "      <td>4</td>\n",
       "    </tr>\n",
       "    <tr>\n",
       "      <th>1</th>\n",
       "      <td>0</td>\n",
       "      <td>взрослый</td>\n",
       "      <td>3</td>\n",
       "      <td>4</td>\n",
       "      <td>5</td>\n",
       "      <td>4</td>\n",
       "      <td>4</td>\n",
       "      <td>5</td>\n",
       "      <td>2</td>\n",
       "      <td>5</td>\n",
       "      <td>3</td>\n",
       "      <td>5</td>\n",
       "      <td>2</td>\n",
       "      <td>3</td>\n",
       "      <td>5</td>\n",
       "      <td>4</td>\n",
       "      <td>1</td>\n",
       "    </tr>\n",
       "    <tr>\n",
       "      <th>2</th>\n",
       "      <td>1</td>\n",
       "      <td>взрослый</td>\n",
       "      <td>5</td>\n",
       "      <td>5</td>\n",
       "      <td>1</td>\n",
       "      <td>1</td>\n",
       "      <td>2</td>\n",
       "      <td>2</td>\n",
       "      <td>2</td>\n",
       "      <td>5</td>\n",
       "      <td>2</td>\n",
       "      <td>2</td>\n",
       "      <td>2</td>\n",
       "      <td>2</td>\n",
       "      <td>2</td>\n",
       "      <td>4</td>\n",
       "      <td>3</td>\n",
       "    </tr>\n",
       "    <tr>\n",
       "      <th>3</th>\n",
       "      <td>0</td>\n",
       "      <td>взрослый</td>\n",
       "      <td>2</td>\n",
       "      <td>4</td>\n",
       "      <td>4</td>\n",
       "      <td>2</td>\n",
       "      <td>5</td>\n",
       "      <td>5</td>\n",
       "      <td>5</td>\n",
       "      <td>5</td>\n",
       "      <td>2</td>\n",
       "      <td>2</td>\n",
       "      <td>5</td>\n",
       "      <td>2</td>\n",
       "      <td>2</td>\n",
       "      <td>2</td>\n",
       "      <td>2</td>\n",
       "    </tr>\n",
       "    <tr>\n",
       "      <th>4</th>\n",
       "      <td>0</td>\n",
       "      <td>взрослый</td>\n",
       "      <td>4</td>\n",
       "      <td>2</td>\n",
       "      <td>5</td>\n",
       "      <td>1</td>\n",
       "      <td>1</td>\n",
       "      <td>1</td>\n",
       "      <td>1</td>\n",
       "      <td>1</td>\n",
       "      <td>1</td>\n",
       "      <td>1</td>\n",
       "      <td>1</td>\n",
       "      <td>4</td>\n",
       "      <td>1</td>\n",
       "      <td>1</td>\n",
       "      <td>2</td>\n",
       "    </tr>\n",
       "    <tr>\n",
       "      <th>...</th>\n",
       "      <td>...</td>\n",
       "      <td>...</td>\n",
       "      <td>...</td>\n",
       "      <td>...</td>\n",
       "      <td>...</td>\n",
       "      <td>...</td>\n",
       "      <td>...</td>\n",
       "      <td>...</td>\n",
       "      <td>...</td>\n",
       "      <td>...</td>\n",
       "      <td>...</td>\n",
       "      <td>...</td>\n",
       "      <td>...</td>\n",
       "      <td>...</td>\n",
       "      <td>...</td>\n",
       "      <td>...</td>\n",
       "      <td>...</td>\n",
       "    </tr>\n",
       "    <tr>\n",
       "      <th>102</th>\n",
       "      <td>1</td>\n",
       "      <td>взрослый</td>\n",
       "      <td>4</td>\n",
       "      <td>5</td>\n",
       "      <td>5</td>\n",
       "      <td>2</td>\n",
       "      <td>2</td>\n",
       "      <td>2</td>\n",
       "      <td>2</td>\n",
       "      <td>2</td>\n",
       "      <td>2</td>\n",
       "      <td>2</td>\n",
       "      <td>2</td>\n",
       "      <td>2</td>\n",
       "      <td>2</td>\n",
       "      <td>3</td>\n",
       "      <td>2</td>\n",
       "    </tr>\n",
       "    <tr>\n",
       "      <th>103</th>\n",
       "      <td>1</td>\n",
       "      <td>взрослый</td>\n",
       "      <td>2</td>\n",
       "      <td>2</td>\n",
       "      <td>5</td>\n",
       "      <td>4</td>\n",
       "      <td>5</td>\n",
       "      <td>3</td>\n",
       "      <td>4</td>\n",
       "      <td>1</td>\n",
       "      <td>2</td>\n",
       "      <td>2</td>\n",
       "      <td>1</td>\n",
       "      <td>2</td>\n",
       "      <td>2</td>\n",
       "      <td>3</td>\n",
       "      <td>3</td>\n",
       "    </tr>\n",
       "    <tr>\n",
       "      <th>104</th>\n",
       "      <td>0</td>\n",
       "      <td>взрослый</td>\n",
       "      <td>1</td>\n",
       "      <td>4</td>\n",
       "      <td>2</td>\n",
       "      <td>4</td>\n",
       "      <td>3</td>\n",
       "      <td>2</td>\n",
       "      <td>2</td>\n",
       "      <td>2</td>\n",
       "      <td>2</td>\n",
       "      <td>2</td>\n",
       "      <td>4</td>\n",
       "      <td>2</td>\n",
       "      <td>4</td>\n",
       "      <td>2</td>\n",
       "      <td>2</td>\n",
       "    </tr>\n",
       "    <tr>\n",
       "      <th>105</th>\n",
       "      <td>1</td>\n",
       "      <td>взрослый</td>\n",
       "      <td>2</td>\n",
       "      <td>2</td>\n",
       "      <td>2</td>\n",
       "      <td>2</td>\n",
       "      <td>2</td>\n",
       "      <td>3</td>\n",
       "      <td>5</td>\n",
       "      <td>1</td>\n",
       "      <td>2</td>\n",
       "      <td>5</td>\n",
       "      <td>2</td>\n",
       "      <td>2</td>\n",
       "      <td>2</td>\n",
       "      <td>3</td>\n",
       "      <td>2</td>\n",
       "    </tr>\n",
       "    <tr>\n",
       "      <th>106</th>\n",
       "      <td>1</td>\n",
       "      <td>подросток</td>\n",
       "      <td>4</td>\n",
       "      <td>5</td>\n",
       "      <td>2</td>\n",
       "      <td>4</td>\n",
       "      <td>2</td>\n",
       "      <td>4</td>\n",
       "      <td>5</td>\n",
       "      <td>4</td>\n",
       "      <td>4</td>\n",
       "      <td>2</td>\n",
       "      <td>3</td>\n",
       "      <td>4</td>\n",
       "      <td>4</td>\n",
       "      <td>3</td>\n",
       "      <td>1</td>\n",
       "    </tr>\n",
       "  </tbody>\n",
       "</table>\n",
       "<p>107 rows × 17 columns</p>\n",
       "</div>"
      ],
      "text/plain": [
       "     Пол    Возраст  Вопрос1  Вопрос2  Вопрос3  Вопрос4  Вопрос5  Вопрос6  \\\n",
       "0      0   взрослый        3        3        5        2        4        3   \n",
       "1      0   взрослый        3        4        5        4        4        5   \n",
       "2      1   взрослый        5        5        1        1        2        2   \n",
       "3      0   взрослый        2        4        4        2        5        5   \n",
       "4      0   взрослый        4        2        5        1        1        1   \n",
       "..   ...        ...      ...      ...      ...      ...      ...      ...   \n",
       "102    1   взрослый        4        5        5        2        2        2   \n",
       "103    1   взрослый        2        2        5        4        5        3   \n",
       "104    0   взрослый        1        4        2        4        3        2   \n",
       "105    1   взрослый        2        2        2        2        2        3   \n",
       "106    1  подросток        4        5        2        4        2        4   \n",
       "\n",
       "     Вопрос7  Вопрос8  Вопрос9  Вопрос10  Вопрос11  Вопрос12  Вопрос13  \\\n",
       "0          3        2        2         2         3         4         2   \n",
       "1          2        5        3         5         2         3         5   \n",
       "2          2        5        2         2         2         2         2   \n",
       "3          5        5        2         2         5         2         2   \n",
       "4          1        1        1         1         1         4         1   \n",
       "..       ...      ...      ...       ...       ...       ...       ...   \n",
       "102        2        2        2         2         2         2         2   \n",
       "103        4        1        2         2         1         2         2   \n",
       "104        2        2        2         2         4         2         4   \n",
       "105        5        1        2         5         2         2         2   \n",
       "106        5        4        4         2         3         4         4   \n",
       "\n",
       "     Вопрос14  Вопрос15  \n",
       "0           2         4  \n",
       "1           4         1  \n",
       "2           4         3  \n",
       "3           2         2  \n",
       "4           1         2  \n",
       "..        ...       ...  \n",
       "102         3         2  \n",
       "103         3         3  \n",
       "104         2         2  \n",
       "105         3         2  \n",
       "106         3         1  \n",
       "\n",
       "[107 rows x 17 columns]"
      ]
     },
     "execution_count": 3,
     "metadata": {},
     "output_type": "execute_result"
    }
   ],
   "source": [
    "data"
   ]
  },
  {
   "cell_type": "markdown",
   "metadata": {},
   "source": [
    "Количество взрослых и подростков"
   ]
  },
  {
   "cell_type": "code",
   "execution_count": 4,
   "metadata": {},
   "outputs": [
    {
     "name": "stdout",
     "output_type": "stream",
     "text": [
      "Кол-во подростков: 37\n",
      "Кол-во взрослых: 70\n"
     ]
    }
   ],
   "source": [
    "teens = data[data['Возраст'] == 'подросток']\n",
    "adults = data[data['Возраст'] == 'взрослый']\n",
    "print(f'Кол-во подростков: {len(teens)}')\n",
    "print(f'Кол-во взрослых: {len(adults)}')"
   ]
  },
  {
   "cell_type": "markdown",
   "metadata": {},
   "source": [
    "# Анализ датасета"
   ]
  },
  {
   "cell_type": "markdown",
   "metadata": {},
   "source": [
    "Посмотрим распределение ответов на вопросы в целом"
   ]
  },
  {
   "cell_type": "code",
   "execution_count": 5,
   "metadata": {},
   "outputs": [
    {
     "data": {
      "image/png": "[encoded data removed]",
      "text/plain": [
       "<Figure size 432x288 with 1 Axes>"
      ]
     },
     "metadata": {
      "needs_background": "light"
     },
     "output_type": "display_data"
    }
   ],
   "source": [
    "data_stacked = data.iloc[:, 2:].stack().reset_index()\n",
    "sns.histplot(data_stacked[0], discrete=True);"
   ]
  },
  {
   "cell_type": "markdown",
   "metadata": {},
   "source": [
    "Распределение по подросткам и взрослым (без нормализации)"
   ]
  },
  {
   "cell_type": "code",
   "execution_count": 6,
   "metadata": {},
   "outputs": [
    {
     "data": {
      "image/png": "[encoded data removed]",
      "text/plain": [
       "<Figure size 720x360 with 2 Axes>"
      ]
     },
     "metadata": {
      "needs_background": "light"
     },
     "output_type": "display_data"
    }
   ],
   "source": [
    "teens_answer_counts = teens.iloc[:, 2:].stack().reset_index()[0].value_counts()\n",
    "adults_answer_counts = adults.iloc[:, 2:].stack().reset_index()[0].value_counts()\n",
    "compare_age_df = pd.concat([teens_answer_counts, adults_answer_counts], axis=1).reset_index()\n",
    "compare_age_df.columns = ['answer_number', 'teens', 'adults']\n",
    "compare_age_df = compare_age_df.melt(id_vars=['answer_number'], var_name='age', value_name='count')\n",
    "\n",
    "\n",
    "sns.catplot(x='answer_number',  y='count', col='age', data=compare_age_df, kind='bar');"
   ]
  },
  {
   "cell_type": "markdown",
   "metadata": {},
   "source": [
    "Распределение по подросткам и взрослым (с нормализацией) "
   ]
  },
  {
   "cell_type": "code",
   "execution_count": 7,
   "metadata": {},
   "outputs": [
    {
     "data": {
      "image/png": "[encoded data removed]",
      "text/plain": [
       "<Figure size 720x360 with 2 Axes>"
      ]
     },
     "metadata": {
      "needs_background": "light"
     },
     "output_type": "display_data"
    }
   ],
   "source": [
    "normalized_df = pd.concat([teens_answer_counts, adults_answer_counts], axis=1)\n",
    "normalized_df = (normalized_df-normalized_df.min())/(normalized_df.max()-normalized_df.min())\n",
    "normalized_df.reset_index(inplace=True)\n",
    "normalized_df.columns = ['answer_number', 'teens', 'adults']\n",
    "normalized_df = normalized_df.melt(id_vars=['answer_number'], var_name='age', value_name='count')\n",
    "\n",
    "sns.catplot(x='answer_number',  y='count', col='age', data=normalized_df, kind='bar');"
   ]
  },
  {
   "cell_type": "code",
   "execution_count": 8,
   "metadata": {},
   "outputs": [
    {
     "data": {
      "text/plain": [
       "array([[1.        , 0.99684453],\n",
       "       [0.99684453, 1.        ]])"
      ]
     },
     "execution_count": 8,
     "metadata": {},
     "output_type": "execute_result"
    }
   ],
   "source": [
    "np.corrcoef(teens_answer_counts.values, adults_answer_counts.values)"
   ]
  },
  {
   "cell_type": "markdown",
   "metadata": {},
   "source": [
    "# Основные статистики"
   ]
  },
  {
   "cell_type": "code",
   "execution_count": 9,
   "metadata": {},
   "outputs": [],
   "source": [
    "def mode(x):\n",
    "    values, counts = np.unique(x, return_counts=True)\n",
    "    m = counts.argmax()\n",
    "    return values[m], counts[m]"
   ]
  },
  {
   "cell_type": "markdown",
   "metadata": {},
   "source": [
    "По подросткам"
   ]
  },
  {
   "cell_type": "code",
   "execution_count": 10,
   "metadata": {},
   "outputs": [
    {
     "data": {
      "text/plain": [
       "count    555.000000\n",
       "mean       2.915315\n",
       "std        1.158098\n",
       "min        1.000000\n",
       "25%        2.000000\n",
       "50%        2.000000\n",
       "75%        4.000000\n",
       "max        5.000000\n",
       "dtype: float64"
      ]
     },
     "execution_count": 10,
     "metadata": {},
     "output_type": "execute_result"
    }
   ],
   "source": [
    "teens_stats = teens.iloc[:, 2:].stack()\n",
    "teens_stats.describe()"
   ]
  },
  {
   "cell_type": "code",
   "execution_count": 11,
   "metadata": {},
   "outputs": [
    {
     "name": "stdout",
     "output_type": "stream",
     "text": [
      "Медиана = 2.0\n",
      "Мода = (2, 261)\n"
     ]
    }
   ],
   "source": [
    "print(f'Медиана = {np.median(teens_stats.values)}')\n",
    "print(f'Мода = {mode(teens_stats.values)}')"
   ]
  },
  {
   "cell_type": "markdown",
   "metadata": {},
   "source": [
    "По взрослым"
   ]
  },
  {
   "cell_type": "code",
   "execution_count": 12,
   "metadata": {},
   "outputs": [
    {
     "data": {
      "text/plain": [
       "count    1050.000000\n",
       "mean        2.952381\n",
       "std         1.234868\n",
       "min         1.000000\n",
       "25%         2.000000\n",
       "50%         2.000000\n",
       "75%         4.000000\n",
       "max         5.000000\n",
       "dtype: float64"
      ]
     },
     "execution_count": 12,
     "metadata": {},
     "output_type": "execute_result"
    }
   ],
   "source": [
    "adults_stats = adults.iloc[:, 2:].stack()\n",
    "adults_stats.describe()"
   ]
  },
  {
   "cell_type": "code",
   "execution_count": 13,
   "metadata": {},
   "outputs": [
    {
     "name": "stdout",
     "output_type": "stream",
     "text": [
      "Медиана = 2.0\n",
      "Мода = (2, 483)\n"
     ]
    }
   ],
   "source": [
    "print(f'Медиана = {np.median(adults_stats.values)}')\n",
    "print(f'Мода = {mode(adults_stats.values)}')"
   ]
  },
  {
   "cell_type": "markdown",
   "metadata": {},
   "source": [
    "# Гипотезы\n",
    "## Гипотеза 1\n",
    "Подростки будут чаще выбирать ответы 1 и 2, чем взрослые \n",
    "\n",
    "Проверим с помощью теста на равенство долей двух г.c. (10% уровень значимости)\n",
    "\n",
    "$$t_{cr} = 1.65 \\\\ H_0: p_0 = p_1 \\\\ H1: p_0 \\neq p_1$$"
   ]
  },
  {
   "cell_type": "code",
   "execution_count": 14,
   "metadata": {},
   "outputs": [],
   "source": [
    "def calculate_statistics(distr_1, distr_2, k, l = None):\n",
    "    if l is None:\n",
    "        k_1 = len(distr_1[distr_1 == k])\n",
    "        k_2 = len(distr_2[distr_2 == k])\n",
    "    else:\n",
    "        k_1 = len(np.where((distr_1 == k) | (distr_1 == l)))\n",
    "        k_2 = len(np.where((distr_2 == k) | (distr_2 == l)))\n",
    "    w_1 = k_1 / len(distr_1)\n",
    "    w_2 = k_2 / len(distr_2)\n",
    "    p = (k_1 + k_2) / (len(distr_1) + len(distr_2))\n",
    "    t = (w_1 - w_2)/ np.sqrt(p*(1-p)*(1/len(distr_1) + 1/len(distr_2)))\n",
    "    return t"
   ]
  },
  {
   "cell_type": "code",
   "execution_count": 15,
   "metadata": {},
   "outputs": [
    {
     "data": {
      "text/plain": [
       "0.45879620530104287"
      ]
     },
     "execution_count": 15,
     "metadata": {},
     "output_type": "execute_result"
    }
   ],
   "source": [
    "calculate_statistics(teens_stats.values, adults_stats.values, 1, 2)"
   ]
  },
  {
   "cell_type": "markdown",
   "metadata": {},
   "source": [
    "$0.46 < 1.65 \\implies$ нельзя отвергнуть нулевую гипотезу о равенстве долей"
   ]
  },
  {
   "cell_type": "markdown",
   "metadata": {},
   "source": [
    "## Гипотеза 2\n",
    "Ответ 5 будут выбирать одинаково часто и взрослые и подростки"
   ]
  },
  {
   "cell_type": "code",
   "execution_count": 16,
   "metadata": {},
   "outputs": [
    {
     "data": {
      "text/plain": [
       "-2.0216186550113933"
      ]
     },
     "execution_count": 16,
     "metadata": {},
     "output_type": "execute_result"
    }
   ],
   "source": [
    "calculate_statistics(teens_stats.values, adults_stats.values, 5)"
   ]
  },
  {
   "cell_type": "markdown",
   "metadata": {},
   "source": [
    "$|-2| > 1.65 \\implies$ отвергаем нулевую гипотезу в пользу альтернативной. Взрослые и подростки выбирают ответ 5 не одинаково часто."
   ]
  }
 ],
 "metadata": {
  "kernelspec": {
   "display_name": "Python 3",
   "language": "python",
   "name": "python3"
  },
  "language_info": {
   "codemirror_mode": {
    "name": "ipython",
    "version": 3
   },
   "file_extension": ".py",
   "mimetype": "text/x-python",
   "name": "python",
   "nbconvert_exporter": "python",
   "pygments_lexer": "ipython3",
   "version": "3.8.3"
  }
 },
 "nbformat": 4,
 "nbformat_minor": 4
}
